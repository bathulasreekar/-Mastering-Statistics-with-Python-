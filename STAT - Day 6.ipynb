{
 "cells": [
  {
   "cell_type": "markdown",
   "metadata": {},
   "source": [
    "<a id=\"lib\"></a>\n",
    "# 1. Import Libraries"
   ]
  },
  {
   "cell_type": "markdown",
   "metadata": {},
   "source": [
    "**Let us import the required libraries.**"
   ]
  },
  {
   "cell_type": "code",
   "execution_count": 2,
   "metadata": {},
   "outputs": [],
   "source": [
    "# import 'pandas' \n",
    "import pandas as pd \n",
    "\n",
    "# import 'numpy' \n",
    "import numpy as np\n",
    "\n",
    "# import subpackage of matplotlib\n",
    "import matplotlib.pyplot as plt\n",
    "\n",
    "# import 'seaborn'\n",
    "import seaborn as sns\n",
    "\n",
    "# to suppress warnings \n",
    "from warnings import filterwarnings\n",
    "filterwarnings('ignore')\n",
    "\n",
    "# import 'random' to generate random sample\n",
    "import random\n",
    "\n",
    "# import statistics to perform statistical computation  \n",
    "import statistics\n",
    "\n",
    "# import 'stats' package from scipy library\n",
    "from scipy import stats\n",
    "\n",
    "# import a library to perform Z-test\n",
    "from statsmodels.stats import weightstats as stests\n",
    "\n",
    "# to test the normality \n",
    "from scipy.stats import shapiro\n",
    "\n",
    "# import the function to calculate the power of test\n",
    "from statsmodels.stats import power"
   ]
  },
  {
   "cell_type": "markdown",
   "metadata": {},
   "source": [
    "### Example:\n",
    "\n",
    "#### 1. Ryan is a production manager at an industry manufacturing alloy seals. They have 4 machines - A, B, C and D. Ryan wants to study whether all the machines have equal efficiency. Ryan collects data of tensile strength from all the 4 machines as given. Perform the post-hoc test to find out which machine has a different average. Test at 5% level of significance.\n",
    "\n",
    "<img src='1_ANOVA.png'>"
   ]
  },
  {
   "cell_type": "code",
   "execution_count": 3,
   "metadata": {},
   "outputs": [],
   "source": [
    "x = np.array([68.7, 62.7, 55.9, 80.7, 75.4, 68.5, 56.1, 70.3, 70.9, 63.1, 57.3, 80.9, 79.1, \n",
    "62.2, 59.2, 85.4, 78.2, 60.3, 50.1, 82.3]).reshape(5,4).T\n",
    "a = x[0,:]\n",
    "b =x[1,:]\n",
    "c =x[2,:]\n",
    "d =x[3,:]"
   ]
  },
  {
   "cell_type": "code",
   "execution_count": 4,
   "metadata": {},
   "outputs": [],
   "source": [
    "# Ho : All means are equal\n",
    "# Ha : Atleast one mean is not equal"
   ]
  },
  {
   "cell_type": "code",
   "execution_count": 5,
   "metadata": {},
   "outputs": [],
   "source": [
    "# Normality test\n",
    "\n",
    "# Ho : Data is normal\n",
    "# Ha : DAta is not  normal"
   ]
  },
  {
   "cell_type": "code",
   "execution_count": 6,
   "metadata": {},
   "outputs": [
    {
     "name": "stdout",
     "output_type": "stream",
     "text": [
      "ShapiroResult(statistic=0.9147661328315735, pvalue=0.4967544972896576)\n",
      "ShapiroResult(statistic=0.8534730076789856, pvalue=0.2057477980852127)\n",
      "ShapiroResult(statistic=0.8795409202575684, pvalue=0.3072359263896942)\n",
      "ShapiroResult(statistic=0.8367964029312134, pvalue=0.15625961124897003)\n"
     ]
    }
   ],
   "source": [
    "print(stats.shapiro(a))\n",
    "print(stats.shapiro(b))\n",
    "print(stats.shapiro(c))\n",
    "print(stats.shapiro(d))"
   ]
  },
  {
   "cell_type": "code",
   "execution_count": 7,
   "metadata": {},
   "outputs": [],
   "source": [
    "# all pvalues > 0.05\n",
    "# Data is normal"
   ]
  },
  {
   "cell_type": "code",
   "execution_count": 8,
   "metadata": {},
   "outputs": [],
   "source": [
    "# Equality of Variance \n",
    "\n",
    "# Levene's Test\n",
    "\n",
    "# Ho : All variance are equal\n",
    "# Ha : Atleast one variance is not equal"
   ]
  },
  {
   "cell_type": "code",
   "execution_count": 9,
   "metadata": {},
   "outputs": [
    {
     "name": "stdout",
     "output_type": "stream",
     "text": [
      "LeveneResult(statistic=0.3969333650936478, pvalue=0.7570021212992085)\n"
     ]
    }
   ],
   "source": [
    "print(stats.levene(a,b,c,d))"
   ]
  },
  {
   "cell_type": "code",
   "execution_count": 10,
   "metadata": {},
   "outputs": [],
   "source": [
    "# pval>0.05\n",
    "# All variance are equal"
   ]
  },
  {
   "cell_type": "code",
   "execution_count": 11,
   "metadata": {},
   "outputs": [],
   "source": [
    "# Data is normal\n",
    "# Data have equal variance\n",
    "# Pop std in unknow\n",
    "\n",
    "# Anova can be used"
   ]
  },
  {
   "cell_type": "code",
   "execution_count": 12,
   "metadata": {},
   "outputs": [
    {
     "data": {
      "text/plain": [
       "F_onewayResult(statistic=32.03072350199285, pvalue=5.375613532781072e-07)"
      ]
     },
     "execution_count": 12,
     "metadata": {},
     "output_type": "execute_result"
    }
   ],
   "source": [
    "stats.f_oneway(a,b,c,d)"
   ]
  },
  {
   "cell_type": "code",
   "execution_count": 13,
   "metadata": {},
   "outputs": [
    {
     "name": "stdout",
     "output_type": "stream",
     "text": [
      "Ha is selected\n"
     ]
    }
   ],
   "source": [
    "pval=5.375613532781072e-07\n",
    "if pval<0.05:\n",
    "    print('Ha is selected')\n",
    "else:\n",
    "    print('Ho is selected')"
   ]
  },
  {
   "cell_type": "code",
   "execution_count": 14,
   "metadata": {},
   "outputs": [],
   "source": [
    "# Atleast one tensile strength is different\n",
    "\n",
    "# But, anova cannot identify which tensile strenth is different. For that, post hoc analysis\n",
    "# can be done"
   ]
  },
  {
   "cell_type": "markdown",
   "metadata": {},
   "source": [
    "## POST HOC ANALYSIS"
   ]
  },
  {
   "cell_type": "markdown",
   "metadata": {},
   "source": [
    "## Tukey HSD"
   ]
  },
  {
   "cell_type": "code",
   "execution_count": 15,
   "metadata": {},
   "outputs": [
    {
     "data": {
      "text/html": [
       "<div>\n",
       "<style scoped>\n",
       "    .dataframe tbody tr th:only-of-type {\n",
       "        vertical-align: middle;\n",
       "    }\n",
       "\n",
       "    .dataframe tbody tr th {\n",
       "        vertical-align: top;\n",
       "    }\n",
       "\n",
       "    .dataframe thead th {\n",
       "        text-align: right;\n",
       "    }\n",
       "</style>\n",
       "<table border=\"1\" class=\"dataframe\">\n",
       "  <thead>\n",
       "    <tr style=\"text-align: right;\">\n",
       "      <th></th>\n",
       "      <th>machine</th>\n",
       "      <th>strength</th>\n",
       "    </tr>\n",
       "  </thead>\n",
       "  <tbody>\n",
       "    <tr>\n",
       "      <th>0</th>\n",
       "      <td>machine_A</td>\n",
       "      <td>68.7</td>\n",
       "    </tr>\n",
       "    <tr>\n",
       "      <th>1</th>\n",
       "      <td>machine_B</td>\n",
       "      <td>62.7</td>\n",
       "    </tr>\n",
       "    <tr>\n",
       "      <th>2</th>\n",
       "      <td>machine_C</td>\n",
       "      <td>55.9</td>\n",
       "    </tr>\n",
       "    <tr>\n",
       "      <th>3</th>\n",
       "      <td>machine_D</td>\n",
       "      <td>80.7</td>\n",
       "    </tr>\n",
       "    <tr>\n",
       "      <th>4</th>\n",
       "      <td>machine_A</td>\n",
       "      <td>75.4</td>\n",
       "    </tr>\n",
       "    <tr>\n",
       "      <th>5</th>\n",
       "      <td>machine_B</td>\n",
       "      <td>68.5</td>\n",
       "    </tr>\n",
       "    <tr>\n",
       "      <th>6</th>\n",
       "      <td>machine_C</td>\n",
       "      <td>56.1</td>\n",
       "    </tr>\n",
       "    <tr>\n",
       "      <th>7</th>\n",
       "      <td>machine_D</td>\n",
       "      <td>70.3</td>\n",
       "    </tr>\n",
       "    <tr>\n",
       "      <th>8</th>\n",
       "      <td>machine_A</td>\n",
       "      <td>70.9</td>\n",
       "    </tr>\n",
       "    <tr>\n",
       "      <th>9</th>\n",
       "      <td>machine_B</td>\n",
       "      <td>63.1</td>\n",
       "    </tr>\n",
       "    <tr>\n",
       "      <th>10</th>\n",
       "      <td>machine_C</td>\n",
       "      <td>57.3</td>\n",
       "    </tr>\n",
       "    <tr>\n",
       "      <th>11</th>\n",
       "      <td>machine_D</td>\n",
       "      <td>80.9</td>\n",
       "    </tr>\n",
       "    <tr>\n",
       "      <th>12</th>\n",
       "      <td>machine_A</td>\n",
       "      <td>79.1</td>\n",
       "    </tr>\n",
       "    <tr>\n",
       "      <th>13</th>\n",
       "      <td>machine_B</td>\n",
       "      <td>62.2</td>\n",
       "    </tr>\n",
       "    <tr>\n",
       "      <th>14</th>\n",
       "      <td>machine_C</td>\n",
       "      <td>59.2</td>\n",
       "    </tr>\n",
       "    <tr>\n",
       "      <th>15</th>\n",
       "      <td>machine_D</td>\n",
       "      <td>85.4</td>\n",
       "    </tr>\n",
       "    <tr>\n",
       "      <th>16</th>\n",
       "      <td>machine_A</td>\n",
       "      <td>78.2</td>\n",
       "    </tr>\n",
       "    <tr>\n",
       "      <th>17</th>\n",
       "      <td>machine_B</td>\n",
       "      <td>60.3</td>\n",
       "    </tr>\n",
       "    <tr>\n",
       "      <th>18</th>\n",
       "      <td>machine_C</td>\n",
       "      <td>50.1</td>\n",
       "    </tr>\n",
       "    <tr>\n",
       "      <th>19</th>\n",
       "      <td>machine_D</td>\n",
       "      <td>82.3</td>\n",
       "    </tr>\n",
       "  </tbody>\n",
       "</table>\n",
       "</div>"
      ],
      "text/plain": [
       "      machine  strength\n",
       "0   machine_A      68.7\n",
       "1   machine_B      62.7\n",
       "2   machine_C      55.9\n",
       "3   machine_D      80.7\n",
       "4   machine_A      75.4\n",
       "5   machine_B      68.5\n",
       "6   machine_C      56.1\n",
       "7   machine_D      70.3\n",
       "8   machine_A      70.9\n",
       "9   machine_B      63.1\n",
       "10  machine_C      57.3\n",
       "11  machine_D      80.9\n",
       "12  machine_A      79.1\n",
       "13  machine_B      62.2\n",
       "14  machine_C      59.2\n",
       "15  machine_D      85.4\n",
       "16  machine_A      78.2\n",
       "17  machine_B      60.3\n",
       "18  machine_C      50.1\n",
       "19  machine_D      82.3"
      ]
     },
     "execution_count": 15,
     "metadata": {},
     "output_type": "execute_result"
    }
   ],
   "source": [
    "# create a dataframe using a dictionary from given data\n",
    "df_machine = pd.DataFrame({'machine': ['machine_A','machine_B','machine_C','machine_D']*5, \n",
    "                           'strength': [68.7, 62.7, 55.9, 80.7, 75.4, 68.5, 56.1, 70.3, 70.9, 63.1, 57.3, 80.9, 79.1, \n",
    "                                               62.2, 59.2, 85.4, 78.2, 60.3, 50.1, 82.3]})\n",
    "df_machine"
   ]
  },
  {
   "cell_type": "code",
   "execution_count": 19,
   "metadata": {},
   "outputs": [
    {
     "data": {
      "text/html": [
       "<table class=\"simpletable\">\n",
       "<caption>Multiple Comparison of Means - Tukey HSD, FWER=0.05</caption>\n",
       "<tr>\n",
       "   <th>group1</th>    <th>group2</th>   <th>meandiff</th>  <th>p-adj</th>   <th>lower</th>    <th>upper</th>  <th>reject</th>\n",
       "</tr>\n",
       "<tr>\n",
       "  <td>machine_A</td> <td>machine_B</td>   <td>-11.1</td>  <td>0.0044</td> <td>-18.8842</td>  <td>-3.3158</td>  <td>True</td> \n",
       "</tr>\n",
       "<tr>\n",
       "  <td>machine_A</td> <td>machine_C</td>  <td>-18.74</td>   <td>0.001</td> <td>-26.5242</td> <td>-10.9558</td>  <td>True</td> \n",
       "</tr>\n",
       "<tr>\n",
       "  <td>machine_A</td> <td>machine_D</td>   <td>5.46</td>   <td>0.2265</td>  <td>-2.3242</td>  <td>13.2442</td>  <td>False</td>\n",
       "</tr>\n",
       "<tr>\n",
       "  <td>machine_B</td> <td>machine_C</td>   <td>-7.64</td>  <td>0.0553</td> <td>-15.4242</td>  <td>0.1442</td>   <td>False</td>\n",
       "</tr>\n",
       "<tr>\n",
       "  <td>machine_B</td> <td>machine_D</td>   <td>16.56</td>   <td>0.001</td>  <td>8.7758</td>   <td>24.3442</td>  <td>True</td> \n",
       "</tr>\n",
       "<tr>\n",
       "  <td>machine_C</td> <td>machine_D</td>   <td>24.2</td>    <td>0.001</td>  <td>16.4158</td>  <td>31.9842</td>  <td>True</td> \n",
       "</tr>\n",
       "</table>"
      ],
      "text/plain": [
       "<class 'statsmodels.iolib.table.SimpleTable'>"
      ]
     },
     "execution_count": 19,
     "metadata": {},
     "output_type": "execute_result"
    }
   ],
   "source": [
    "import statsmodels.stats.multicomp as mc\n",
    "\n",
    "mc_tk = mc.MultiComparison(data=df_machine['strength'],groups=df_machine['machine'])\n",
    "tk_hsd = mc_tk.tukeyhsd(alpha=0.05)\n",
    "tk_hsd.summary()"
   ]
  },
  {
   "cell_type": "code",
   "execution_count": null,
   "metadata": {},
   "outputs": [],
   "source": [
    "# A != B\n",
    "# A != C\n",
    "# A = D\n",
    "# B = C\n",
    "# B != D\n",
    "# C != D"
   ]
  },
  {
   "cell_type": "code",
   "execution_count": 21,
   "metadata": {},
   "outputs": [
    {
     "data": {
      "image/png": "[encoded data removed]",
      "text/plain": [
       "<Figure size 640x480 with 1 Axes>"
      ]
     },
     "metadata": {},
     "output_type": "display_data"
    }
   ],
   "source": [
    "sns.distplot(a)\n",
    "sns.distplot(b)\n",
    "sns.distplot(c)\n",
    "sns.distplot(d)\n",
    "plt.legend(['a','b','c','d'])\n",
    "plt.show()"
   ]
  },
  {
   "cell_type": "markdown",
   "metadata": {},
   "source": [
    "# Relation in  Datasets"
   ]
  },
  {
   "cell_type": "code",
   "execution_count": 25,
   "metadata": {},
   "outputs": [],
   "source": [
    "# Assuming data is normal and have equal variance"
   ]
  },
  {
   "cell_type": "code",
   "execution_count": 22,
   "metadata": {},
   "outputs": [],
   "source": [
    "df = pd.read_csv('students_data.csv')"
   ]
  },
  {
   "cell_type": "code",
   "execution_count": 23,
   "metadata": {},
   "outputs": [
    {
     "data": {
      "text/html": [
       "<div>\n",
       "<style scoped>\n",
       "    .dataframe tbody tr th:only-of-type {\n",
       "        vertical-align: middle;\n",
       "    }\n",
       "\n",
       "    .dataframe tbody tr th {\n",
       "        vertical-align: top;\n",
       "    }\n",
       "\n",
       "    .dataframe thead th {\n",
       "        text-align: right;\n",
       "    }\n",
       "</style>\n",
       "<table border=\"1\" class=\"dataframe\">\n",
       "  <thead>\n",
       "    <tr style=\"text-align: right;\">\n",
       "      <th></th>\n",
       "      <th>gender</th>\n",
       "      <th>ethnicity</th>\n",
       "      <th>education</th>\n",
       "      <th>lunch</th>\n",
       "      <th>test_prep_course</th>\n",
       "      <th>math_score</th>\n",
       "      <th>reading_score</th>\n",
       "      <th>writing_score</th>\n",
       "      <th>total_score</th>\n",
       "      <th>training_institute</th>\n",
       "    </tr>\n",
       "  </thead>\n",
       "  <tbody>\n",
       "    <tr>\n",
       "      <th>0</th>\n",
       "      <td>female</td>\n",
       "      <td>group B</td>\n",
       "      <td>bachelor's degree</td>\n",
       "      <td>standard</td>\n",
       "      <td>none</td>\n",
       "      <td>89</td>\n",
       "      <td>55</td>\n",
       "      <td>56</td>\n",
       "      <td>200</td>\n",
       "      <td>Nature Learning</td>\n",
       "    </tr>\n",
       "    <tr>\n",
       "      <th>1</th>\n",
       "      <td>female</td>\n",
       "      <td>group C</td>\n",
       "      <td>college</td>\n",
       "      <td>standard</td>\n",
       "      <td>completed</td>\n",
       "      <td>55</td>\n",
       "      <td>63</td>\n",
       "      <td>72</td>\n",
       "      <td>190</td>\n",
       "      <td>Nature Learning</td>\n",
       "    </tr>\n",
       "    <tr>\n",
       "      <th>2</th>\n",
       "      <td>female</td>\n",
       "      <td>group B</td>\n",
       "      <td>master's degree</td>\n",
       "      <td>standard</td>\n",
       "      <td>none</td>\n",
       "      <td>64</td>\n",
       "      <td>71</td>\n",
       "      <td>56</td>\n",
       "      <td>191</td>\n",
       "      <td>Nature Learning</td>\n",
       "    </tr>\n",
       "    <tr>\n",
       "      <th>3</th>\n",
       "      <td>male</td>\n",
       "      <td>group A</td>\n",
       "      <td>associate's degree</td>\n",
       "      <td>free/reduced</td>\n",
       "      <td>none</td>\n",
       "      <td>60</td>\n",
       "      <td>99</td>\n",
       "      <td>72</td>\n",
       "      <td>231</td>\n",
       "      <td>Nature Learning</td>\n",
       "    </tr>\n",
       "    <tr>\n",
       "      <th>4</th>\n",
       "      <td>male</td>\n",
       "      <td>group C</td>\n",
       "      <td>college</td>\n",
       "      <td>standard</td>\n",
       "      <td>none</td>\n",
       "      <td>75</td>\n",
       "      <td>66</td>\n",
       "      <td>51</td>\n",
       "      <td>192</td>\n",
       "      <td>Nature Learning</td>\n",
       "    </tr>\n",
       "  </tbody>\n",
       "</table>\n",
       "</div>"
      ],
      "text/plain": [
       "   gender ethnicity           education         lunch test_prep_course  \\\n",
       "0  female   group B   bachelor's degree      standard             none   \n",
       "1  female   group C             college      standard        completed   \n",
       "2  female   group B     master's degree      standard             none   \n",
       "3    male   group A  associate's degree  free/reduced             none   \n",
       "4    male   group C             college      standard             none   \n",
       "\n",
       "   math_score  reading_score  writing_score  total_score training_institute  \n",
       "0          89             55             56          200    Nature Learning  \n",
       "1          55             63             72          190    Nature Learning  \n",
       "2          64             71             56          191    Nature Learning  \n",
       "3          60             99             72          231    Nature Learning  \n",
       "4          75             66             51          192    Nature Learning  "
      ]
     },
     "execution_count": 23,
     "metadata": {},
     "output_type": "execute_result"
    }
   ],
   "source": [
    "df.head()"
   ]
  },
  {
   "cell_type": "markdown",
   "metadata": {},
   "source": [
    "### Is gender related to total score?"
   ]
  },
  {
   "cell_type": "code",
   "execution_count": 24,
   "metadata": {},
   "outputs": [],
   "source": [
    "# Ho : mu1(male) = mu2(female)  => no relation b/w gender and total score\n",
    "# Ha : mu1(male) != mu2(femake) => relation b/w gender and total score"
   ]
  },
  {
   "cell_type": "code",
   "execution_count": null,
   "metadata": {},
   "outputs": [],
   "source": [
    "# Two sample t test (upaired)"
   ]
  },
  {
   "cell_type": "code",
   "execution_count": 26,
   "metadata": {},
   "outputs": [],
   "source": [
    "female_score = df[df['gender']=='female']['total_score']\n",
    "male_score = df[df['gender']=='male']['total_score']"
   ]
  },
  {
   "cell_type": "code",
   "execution_count": null,
   "metadata": {},
   "outputs": [],
   "source": [
    "# Assuming data is normal and have equal variance"
   ]
  },
  {
   "cell_type": "code",
   "execution_count": 27,
   "metadata": {},
   "outputs": [
    {
     "data": {
      "text/plain": [
       "Ttest_indResult(statistic=0.2743736370567049, pvalue=0.7838542822857014)"
      ]
     },
     "execution_count": 27,
     "metadata": {},
     "output_type": "execute_result"
    }
   ],
   "source": [
    "stats.ttest_ind(male_score,female_score)"
   ]
  },
  {
   "cell_type": "code",
   "execution_count": 28,
   "metadata": {},
   "outputs": [
    {
     "name": "stdout",
     "output_type": "stream",
     "text": [
      "Ho is selected\n"
     ]
    }
   ],
   "source": [
    "pvalue=0.7838542822857014\n",
    "if pvalue<0.05:\n",
    "    print('Ha is selected')\n",
    "else:\n",
    "    print('Ho is selected')"
   ]
  },
  {
   "cell_type": "code",
   "execution_count": null,
   "metadata": {},
   "outputs": [],
   "source": [
    " # no relation b/w gender and total score"
   ]
  },
  {
   "cell_type": "markdown",
   "metadata": {},
   "source": [
    "###  Is ethnicity related to total score?"
   ]
  },
  {
   "cell_type": "code",
   "execution_count": null,
   "metadata": {},
   "outputs": [],
   "source": [
    "# Ho : All the mean are equal (No relation)\n",
    "# Ha : Atleast one mean is not equal(Relation)"
   ]
  },
  {
   "cell_type": "code",
   "execution_count": null,
   "metadata": {},
   "outputs": [],
   "source": [
    "# ANOVA"
   ]
  },
  {
   "cell_type": "code",
   "execution_count": 29,
   "metadata": {},
   "outputs": [],
   "source": [
    "grp_a = df[df['ethnicity']=='group A']['total_score']\n",
    "grp_b = df[df['ethnicity']=='group B']['total_score']\n",
    "grp_c = df[df['ethnicity']=='group C']['total_score']\n",
    "grp_d = df[df['ethnicity']=='group D']['total_score']\n",
    "grp_e = df[df['ethnicity']=='group E']['total_score']"
   ]
  },
  {
   "cell_type": "code",
   "execution_count": null,
   "metadata": {},
   "outputs": [],
   "source": [
    "# Assuming data is normal and have equal variance"
   ]
  },
  {
   "cell_type": "code",
   "execution_count": 30,
   "metadata": {},
   "outputs": [
    {
     "data": {
      "text/plain": [
       "F_onewayResult(statistic=0.789109595922189, pvalue=0.5322937031083035)"
      ]
     },
     "execution_count": 30,
     "metadata": {},
     "output_type": "execute_result"
    }
   ],
   "source": [
    "stats.f_oneway(grp_a,grp_b,grp_c,grp_d,grp_e)"
   ]
  },
  {
   "cell_type": "code",
   "execution_count": 31,
   "metadata": {},
   "outputs": [
    {
     "name": "stdout",
     "output_type": "stream",
     "text": [
      "Ho is selected\n"
     ]
    }
   ],
   "source": [
    "pvalue=0.5322937031083035\n",
    "if pvalue<0.05:\n",
    "    print('Ha is selected')\n",
    "else:\n",
    "    print('Ho is selected')"
   ]
  },
  {
   "cell_type": "code",
   "execution_count": null,
   "metadata": {},
   "outputs": [],
   "source": [
    " # no relation b/w ethnicity and total score"
   ]
  },
  {
   "cell_type": "markdown",
   "metadata": {},
   "source": [
    "### Is gender related to education"
   ]
  },
  {
   "cell_type": "code",
   "execution_count": null,
   "metadata": {},
   "outputs": [],
   "source": [
    "# Ho : Categorical features are independant (No relation)\n",
    "# Ha : Categorical features are dependant (Relation)"
   ]
  },
  {
   "cell_type": "code",
   "execution_count": 32,
   "metadata": {},
   "outputs": [
    {
     "data": {
      "text/html": [
       "<div>\n",
       "<style scoped>\n",
       "    .dataframe tbody tr th:only-of-type {\n",
       "        vertical-align: middle;\n",
       "    }\n",
       "\n",
       "    .dataframe tbody tr th {\n",
       "        vertical-align: top;\n",
       "    }\n",
       "\n",
       "    .dataframe thead th {\n",
       "        text-align: right;\n",
       "    }\n",
       "</style>\n",
       "<table border=\"1\" class=\"dataframe\">\n",
       "  <thead>\n",
       "    <tr style=\"text-align: right;\">\n",
       "      <th>education</th>\n",
       "      <th>Ph.D.</th>\n",
       "      <th>associate's degree</th>\n",
       "      <th>bachelor's degree</th>\n",
       "      <th>college</th>\n",
       "      <th>high school</th>\n",
       "      <th>master's degree</th>\n",
       "    </tr>\n",
       "    <tr>\n",
       "      <th>gender</th>\n",
       "      <th></th>\n",
       "      <th></th>\n",
       "      <th></th>\n",
       "      <th></th>\n",
       "      <th></th>\n",
       "      <th></th>\n",
       "    </tr>\n",
       "  </thead>\n",
       "  <tbody>\n",
       "    <tr>\n",
       "      <th>female</th>\n",
       "      <td>91</td>\n",
       "      <td>116</td>\n",
       "      <td>63</td>\n",
       "      <td>117</td>\n",
       "      <td>94</td>\n",
       "      <td>36</td>\n",
       "    </tr>\n",
       "    <tr>\n",
       "      <th>male</th>\n",
       "      <td>88</td>\n",
       "      <td>106</td>\n",
       "      <td>55</td>\n",
       "      <td>108</td>\n",
       "      <td>103</td>\n",
       "      <td>23</td>\n",
       "    </tr>\n",
       "  </tbody>\n",
       "</table>\n",
       "</div>"
      ],
      "text/plain": [
       "education  Ph.D.  associate's degree  bachelor's degree  college  high school  \\\n",
       "gender                                                                          \n",
       "female        91                 116                 63      117           94   \n",
       "male          88                 106                 55      108          103   \n",
       "\n",
       "education  master's degree  \n",
       "gender                      \n",
       "female                  36  \n",
       "male                    23  "
      ]
     },
     "execution_count": 32,
     "metadata": {},
     "output_type": "execute_result"
    }
   ],
   "source": [
    "obs_val= pd.crosstab(df['gender'],df['education'])\n",
    "obs_val"
   ]
  },
  {
   "cell_type": "code",
   "execution_count": 33,
   "metadata": {},
   "outputs": [
    {
     "data": {
      "text/plain": [
       "(3.5267538812534243,\n",
       " 0.6193433487137843,\n",
       " 5,\n",
       " array([[ 92.543, 114.774,  61.006, 116.325, 101.849,  30.503],\n",
       "        [ 86.457, 107.226,  56.994, 108.675,  95.151,  28.497]]))"
      ]
     },
     "execution_count": 33,
     "metadata": {},
     "output_type": "execute_result"
    }
   ],
   "source": [
    "stats.chi2_contingency(obs_val)"
   ]
  },
  {
   "cell_type": "code",
   "execution_count": 34,
   "metadata": {},
   "outputs": [
    {
     "name": "stdout",
     "output_type": "stream",
     "text": [
      "Ho is selected\n"
     ]
    }
   ],
   "source": [
    "pvalue=0.6193433487137843\n",
    "if pvalue<0.05:\n",
    "    print('Ha is selected')\n",
    "else:\n",
    "    print('Ho is selected')"
   ]
  },
  {
   "cell_type": "code",
   "execution_count": 35,
   "metadata": {},
   "outputs": [],
   "source": [
    "# There is no relation b/w gender and education"
   ]
  },
  {
   "cell_type": "markdown",
   "metadata": {},
   "source": [
    "### Is reading mark is related to total mark?"
   ]
  },
  {
   "cell_type": "code",
   "execution_count": 36,
   "metadata": {
    "scrolled": true
   },
   "outputs": [
    {
     "data": {
      "text/html": [
       "<div>\n",
       "<style scoped>\n",
       "    .dataframe tbody tr th:only-of-type {\n",
       "        vertical-align: middle;\n",
       "    }\n",
       "\n",
       "    .dataframe tbody tr th {\n",
       "        vertical-align: top;\n",
       "    }\n",
       "\n",
       "    .dataframe thead th {\n",
       "        text-align: right;\n",
       "    }\n",
       "</style>\n",
       "<table border=\"1\" class=\"dataframe\">\n",
       "  <thead>\n",
       "    <tr style=\"text-align: right;\">\n",
       "      <th></th>\n",
       "      <th>reading_score</th>\n",
       "      <th>total_score</th>\n",
       "    </tr>\n",
       "  </thead>\n",
       "  <tbody>\n",
       "    <tr>\n",
       "      <th>reading_score</th>\n",
       "      <td>1.000000</td>\n",
       "      <td>0.577148</td>\n",
       "    </tr>\n",
       "    <tr>\n",
       "      <th>total_score</th>\n",
       "      <td>0.577148</td>\n",
       "      <td>1.000000</td>\n",
       "    </tr>\n",
       "  </tbody>\n",
       "</table>\n",
       "</div>"
      ],
      "text/plain": [
       "               reading_score  total_score\n",
       "reading_score       1.000000     0.577148\n",
       "total_score         0.577148     1.000000"
      ]
     },
     "execution_count": 36,
     "metadata": {},
     "output_type": "execute_result"
    }
   ],
   "source": [
    "df[['reading_score','total_score']].corr()"
   ]
  },
  {
   "cell_type": "code",
   "execution_count": null,
   "metadata": {},
   "outputs": [],
   "source": [
    "# Ho : corr=0 (no relation)\n",
    "# Ha : corr !=0 (relation)"
   ]
  },
  {
   "cell_type": "code",
   "execution_count": 37,
   "metadata": {},
   "outputs": [
    {
     "data": {
      "text/plain": [
       "(0.5771479640889049, 7.022400001971566e-90)"
      ]
     },
     "execution_count": 37,
     "metadata": {},
     "output_type": "execute_result"
    }
   ],
   "source": [
    "stats.pearsonr(df['reading_score'],df['total_score'])"
   ]
  },
  {
   "cell_type": "code",
   "execution_count": 38,
   "metadata": {},
   "outputs": [
    {
     "name": "stdout",
     "output_type": "stream",
     "text": [
      "Ha is selected\n"
     ]
    }
   ],
   "source": [
    "pvalue=7.022400001971566e-90\n",
    "if pvalue<0.05:\n",
    "    print('Ha is selected')\n",
    "else:\n",
    "    print('Ho is selected')"
   ]
  },
  {
   "cell_type": "code",
   "execution_count": 39,
   "metadata": {},
   "outputs": [],
   "source": [
    "# There is relation b/w reading score and total_score"
   ]
  }
 ],
 "metadata": {
  "kernelspec": {
   "display_name": "Python 3 (ipykernel)",
   "language": "python",
   "name": "python3"
  },
  "language_info": {
   "codemirror_mode": {
    "name": "ipython",
    "version": 3
   },
   "file_extension": ".py",
   "mimetype": "text/x-python",
   "name": "python",
   "nbconvert_exporter": "python",
   "pygments_lexer": "ipython3",
   "version": "3.9.12"
  },
  "toc": {
   "base_numbering": 1,
   "nav_menu": {},
   "number_sections": true,
   "sideBar": true,
   "skip_h1_title": false,
   "title_cell": "Table of Contents",
   "title_sidebar": "Contents",
   "toc_cell": false,
   "toc_position": {},
   "toc_section_display": true,
   "toc_window_display": false
  },
  "varInspector": {
   "cols": {
    "lenName": 16,
    "lenType": 16,
    "lenVar": 40
   },
   "kernels_config": {
    "python": {
     "delete_cmd_postfix": "",
     "delete_cmd_prefix": "del ",
     "library": "var_list.py",
     "varRefreshCmd": "print(var_dic_list())"
    },
    "r": {
     "delete_cmd_postfix": ") ",
     "delete_cmd_prefix": "rm(",
     "library": "var_list.r",
     "varRefreshCmd": "cat(var_dic_list()) "
    }
   },
   "types_to_exclude": [
    "module",
    "function",
    "builtin_function_or_method",
    "instance",
    "_Feature"
   ],
   "window_display": false
  }
 },
 "nbformat": 4,
 "nbformat_minor": 2
}
