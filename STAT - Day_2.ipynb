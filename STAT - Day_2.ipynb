{
 "cells": [
  {
   "cell_type": "markdown",
   "metadata": {},
   "source": [
    "<a id=\"lib\"></a>\n",
    "# 1. Import Libraries"
   ]
  },
  {
   "cell_type": "markdown",
   "metadata": {},
   "source": [
    "**Let us import the required libraries.**"
   ]
  },
  {
   "cell_type": "code",
   "execution_count": 1,
   "metadata": {},
   "outputs": [],
   "source": [
    "import scipy.stats as stats\n",
    "import numpy as np\n",
    "import pandas as pd\n",
    "import matplotlib.pyplot as plt\n",
    "import seaborn as sns"
   ]
  },
  {
   "cell_type": "markdown",
   "metadata": {},
   "source": [
    "<a id=\"pt\"></a>\n",
    "##  Point Estimation"
   ]
  },
  {
   "cell_type": "markdown",
   "metadata": {},
   "source": [
    "This method considers a single value (sample statistic) as the population parameter. \n",
    "\n",
    "Let $X_{1}, X_{2}, X_{3},..., X_{n}$ be the random sample drawn from a population with mean $\\mu$ and standard deviation $\\sigma$. <br>\n",
    "The point estimation method estimates the population mean, $\\mu = \\overline{X}$, where $\\overline{X}$ is the sample mean and population standard deviation, $\\sigma = s$, where $s$ is the standard deviation of the sample ."
   ]
  },
  {
   "cell_type": "markdown",
   "metadata": {},
   "source": [
    "<a id=\"err\"></a>\n",
    "### 2.1.1 Sampling Error"
   ]
  },
  {
   "cell_type": "markdown",
   "metadata": {},
   "source": [
    "Sampling error is considered as the absolute difference between the sample statistic used to estimate the parameter and the corresponding population parameter. Since the entire population is not considered as the sample, the values of mean, median, quantiles, and so on calculated on sample differ from the actual population values. \n",
    "\n",
    "One can reduce the sampling error either by increasing the sample size or determining the optimal sample size using various methods."
   ]
  },
  {
   "cell_type": "markdown",
   "metadata": {},
   "source": [
    "### Example:\n",
    "\n",
    "#### 1. Consider the data for the number of ice-creams sold per day. An ice-cream vendor collected this data for 90 days and then a sample is drawn (without replacement) containing ice-creams sold for 25 days. \n",
    "\n",
    "data = [21, 93, 62, 76, 73, 20, 56, 95, 41, 36, 38, 13, 80, 88, 34, 18, 40, 11, \n",
    "        25, 29, 61, 23, 82, 10, 92, 69, 60, 87, 14, 91, 94, 49, 57, 83, 96, 55, \n",
    "        79, 52, 59, 39, 58, 17, 19, 98, 15, 54, 48, 46, 72, 45, 65, 28, 37, 30, \n",
    "        68, 75, 16, 33, 31, 99, 22, 51, 27, 67, 85, 47, 44, 77, 64, 97, 84, 42, \n",
    "        90, 70, 74, 89, 32, 26, 24, 12, 81, 53, 50, 35, 71, 63, 43, 86, 78, 66]\n",
    "        \n",
    "sample = [10, 22, 47, 66, 11, 57, 77, 98, 31, 63, 74, 84, 50, 96, 88, 92, 70, 54, 65, 44, 16, 72, 20, 90, 43]\n"
   ]
  },
  {
   "cell_type": "code",
   "execution_count": 3,
   "metadata": {},
   "outputs": [],
   "source": [
    "data = [21, 93, 62, 76, 73, 20, 56, 95, 41, 36, 38, 13, 80, 88, 34, 18, 40, 11, \n",
    "        25, 29, 61, 23, 82, 10, 92, 69, 60, 87, 14, 91, 94, 49, 57, 83, 96, 55, \n",
    "        79, 52, 59, 39, 58, 17, 19, 98, 15, 54, 48, 46, 72, 45, 65, 28, 37, 30, \n",
    "        68, 75, 16, 33, 31, 99, 22, 51, 27, 67, 85, 47, 44, 77, 64, 97, 84, 42, \n",
    "        90, 70, 74, 89, 32, 26, 24, 12, 81, 53, 50, 35, 71, 63, 43, 86, 78, 66]\n",
    "        \n",
    "sample = [10, 22, 47, 66, 11, 57, 77, 98, 31, 63, 74, 84, 50, 96, 88, 92, 70, 54, \n",
    "          65, 44, 16, 72, 20, 90, 43]\n"
   ]
  },
  {
   "cell_type": "code",
   "execution_count": 4,
   "metadata": {},
   "outputs": [
    {
     "name": "stdout",
     "output_type": "stream",
     "text": [
      "Sampling error: 3.1000000000000014\n"
     ]
    }
   ],
   "source": [
    "mu = np.mean(data)  # population_mean\n",
    "x_bar = np.mean(sample)  # sample_mean\n",
    "print('Sampling error:', abs(mu-x_bar))"
   ]
  },
  {
   "cell_type": "code",
   "execution_count": 8,
   "metadata": {},
   "outputs": [
    {
     "name": "stdout",
     "output_type": "stream",
     "text": [
      "Standard error: 5.195831662656775\n"
     ]
    }
   ],
   "source": [
    "sigma = np.std(data)\n",
    "n = len(sample)\n",
    "print('Standard error:', sigma/n**0.5)"
   ]
  },
  {
   "cell_type": "markdown",
   "metadata": {},
   "source": [
    "<a id=\"int\"></a>\n",
    "## 2.2 Interval Estimation for Mean"
   ]
  },
  {
   "cell_type": "markdown",
   "metadata": {},
   "source": [
    "This method considers the range of values in which the population parameter is likely to lie. The confidence interval is an interval that describes the range of values in which the parameter lies with a specific probability. It is given by the formula,<br> <p style='text-indent:20em'> `conf_interval = sample statistic ± margin of error`</p>\n",
    "\n",
    "The uncertainty of an estimate is described by the `confidence level` which is used to calculate the margin of error. "
   ]
  },
  {
   "cell_type": "code",
   "execution_count": 10,
   "metadata": {},
   "outputs": [
    {
     "data": {
      "text/plain": [
       "0.6826894921370859"
      ]
     },
     "execution_count": 10,
     "metadata": {},
     "output_type": "execute_result"
    }
   ],
   "source": [
    "stats.norm.cdf(1)-stats.norm.cdf(-1)"
   ]
  },
  {
   "cell_type": "code",
   "execution_count": 11,
   "metadata": {},
   "outputs": [
    {
     "data": {
      "text/plain": [
       "0.9544997361036416"
      ]
     },
     "execution_count": 11,
     "metadata": {},
     "output_type": "execute_result"
    }
   ],
   "source": [
    "stats.norm.cdf(2)-stats.norm.cdf(-2)"
   ]
  },
  {
   "cell_type": "code",
   "execution_count": 12,
   "metadata": {},
   "outputs": [
    {
     "data": {
      "text/plain": [
       "1.6448536269514729"
      ]
     },
     "execution_count": 12,
     "metadata": {},
     "output_type": "execute_result"
    }
   ],
   "source": [
    "stats.norm.isf(0.05)"
   ]
  },
  {
   "cell_type": "markdown",
   "metadata": {},
   "source": [
    "<a id=\"large\"></a>\n",
    "### 2.2.1 Interval Estimation with Z stat"
   ]
  },
  {
   "cell_type": "markdown",
   "metadata": {},
   "source": [
    "Here the standard deviation of the population is known.The confidence interval for the population mean with $100(1-\\alpha)$% confidence level is given as: $\\overline{X} \\pm Z_{\\frac{\\alpha}{2}}\\frac{\\sigma}{\\sqrt{n}}$\n",
    "\n",
    "Where, <br>\n",
    "$\\overline{X}$: Sample mean<br>\n",
    "$\\alpha$: Level of significance<br>\n",
    "$\\sigma$: Population Standard deviation <br>\n",
    "$n$: Sample size"
   ]
  },
  {
   "cell_type": "markdown",
   "metadata": {},
   "source": [
    "### Example:\n",
    "\n",
    "#### 1. A random sample of weight (in kg.) for 35 diabetic patients is drawn from the population with a standard deviation of 8 kg. Find the 90% confidence interval for the population mean.\n",
    "\n",
    "    Weight: [59.1, 65.0, 75.8, 79.2, 95.0, 99.8, 89.1, 65.3, 41.9, 55.2, 94.8, 84.1, 83.2, 74.0, 75.5, 76.2, 79.1, 80.1, \n",
    "             92.1, 74.2, 59.2, 64.0, 75, 78.2, 95.6, 97.8, 89.5, 64.2, 41.8, 57.2, 85, 91.4, 81.8, 74.6, 90]"
   ]
  },
  {
   "cell_type": "code",
   "execution_count": 14,
   "metadata": {},
   "outputs": [],
   "source": [
    "sigma = 8\n",
    "Weight= [59.1, 65.0, 75.8, 79.2, 95.0, 99.8, 89.1, 65.3, 41.9, 55.2, 94.8, 84.1, 83.2, 74.0, 75.5, 76.2, 79.1, 80.1, \n",
    "         92.1, 74.2, 59.2, 64.0, 75, 78.2, 95.6, 97.8, 89.5, 64.2, 41.8, 57.2, 85, 91.4, 81.8, 74.6, 90]\n",
    "x_bar = np.mean(Weight)\n",
    "n = len(Weight)\n",
    "z = stats.norm.isf(0.05)"
   ]
  },
  {
   "cell_type": "code",
   "execution_count": 15,
   "metadata": {},
   "outputs": [
    {
     "name": "stdout",
     "output_type": "stream",
     "text": [
      "74.46146621975642 78.90996235167215\n"
     ]
    }
   ],
   "source": [
    "ll = x_bar - (z*(sigma/n**0.5))\n",
    "ul = x_bar + (z*(sigma/n**0.5))\n",
    "print(ll,ul)"
   ]
  },
  {
   "cell_type": "code",
   "execution_count": null,
   "metadata": {},
   "outputs": [],
   "source": [
    "# Inbuilt function:\n",
    "\n",
    "# stats.norm.interval(loc=x_bar,scale=sigma/n**0.5, alpha=confidence_level)"
   ]
  },
  {
   "cell_type": "code",
   "execution_count": 16,
   "metadata": {},
   "outputs": [
    {
     "data": {
      "text/plain": [
       "(74.46146621975642, 78.90996235167215)"
      ]
     },
     "execution_count": 16,
     "metadata": {},
     "output_type": "execute_result"
    }
   ],
   "source": [
    "stats.norm.interval(loc=x_bar,scale=sigma/n**0.5, alpha=0.9)"
   ]
  },
  {
   "cell_type": "code",
   "execution_count": null,
   "metadata": {},
   "outputs": [],
   "source": [
    "# The pop mean ranges from 74.4 to 78.9 with 90% confidence"
   ]
  },
  {
   "cell_type": "markdown",
   "metadata": {},
   "source": [
    "#### Practice\n",
    "\n",
    "2. There are 150 apples on a tree. You randomly choose 40 apples and found that the average weight of apples is 182 grams with a population standard deviation of 30 grams. Find the 95% confidence interval for the population mean."
   ]
  },
  {
   "cell_type": "code",
   "execution_count": 18,
   "metadata": {},
   "outputs": [
    {
     "data": {
      "text/plain": [
       "(172.70307451543158, 191.29692548456842)"
      ]
     },
     "execution_count": 18,
     "metadata": {},
     "output_type": "execute_result"
    }
   ],
   "source": [
    "stats.norm.interval(loc=182,scale=30/40**0.5,alpha=0.95)"
   ]
  },
  {
   "cell_type": "code",
   "execution_count": 19,
   "metadata": {},
   "outputs": [
    {
     "data": {
      "text/plain": [
       "(-inf, inf)"
      ]
     },
     "execution_count": 19,
     "metadata": {},
     "output_type": "execute_result"
    }
   ],
   "source": [
    "stats.norm.interval(loc=182,scale=30/40**0.5,alpha=1)"
   ]
  },
  {
   "cell_type": "markdown",
   "metadata": {},
   "source": [
    "#### 3. A movie production house needs to estimate the average monthly wage of the technical crew members. The previous data shows that the standard deviation of the wages is 190 dollars. The production team thinks that the estimation of the average wage should not exceed 54 dollars. The team has decided to take a small subset of wages for the estimation. Find a suitable number of wages to be considered to get the estimate with 90% confidence."
   ]
  },
  {
   "cell_type": "code",
   "execution_count": 20,
   "metadata": {},
   "outputs": [
    {
     "name": "stdout",
     "output_type": "stream",
     "text": [
      "33\n"
     ]
    }
   ],
   "source": [
    "me = 54\n",
    "sigma = 190\n",
    "z = stats.norm.isf(0.05)\n",
    "n = ((z*sigma)/me)**2\n",
    "print(round(n))"
   ]
  },
  {
   "cell_type": "code",
   "execution_count": null,
   "metadata": {},
   "outputs": [],
   "source": [
    "# Minimum of 33 samples are required to perform the analysis."
   ]
  },
  {
   "cell_type": "markdown",
   "metadata": {},
   "source": [
    "<a id=\"small\"></a>\n",
    "### 2.2.2  Interval Estimation with t stat"
   ]
  },
  {
   "cell_type": "markdown",
   "metadata": {},
   "source": [
    "Here the standard deviation of the population is unknown. The confidence interval for the population mean with $100(1-\\alpha)$% confidence level is given as: $\\overline{X} \\pm t_{\\frac{\\alpha}{2}, n-1}\\frac{s}{\\sqrt{n}}$\n",
    "\n",
    "Where, <br>\n",
    "$\\overline{X}$: Sample mean<br>\n",
    "$\\alpha$: Level of significance<br>\n",
    "$s$: Sample standard deviation<br>\n",
    "$n-1$: degrees of freedom\n",
    "\n",
    "The ratio $\\frac{s}{\\sqrt{n}}$ is the estimate of the standard error of the mean. And $t_{\\frac{\\alpha}{2}, n-1}\\frac{s}{\\sqrt{n}}$ is the margin of error for the estimate.\n",
    "\n",
    "The value of $t_{\\frac{\\alpha}{2}, n-1}$ for different $\\alpha$ values can be obtained using the `stats.t.isf()` from the scipy library.  "
   ]
  },
  {
   "cell_type": "markdown",
   "metadata": {},
   "source": [
    "### Example:\n",
    "\n",
    "#### 1. In a apple tree, you randomly choose 17 apples and found that the average weight of apples is 78 grams with a standard deviation of 23 grams. Find the 90% confidence interval for the population mean."
   ]
  },
  {
   "cell_type": "code",
   "execution_count": 21,
   "metadata": {},
   "outputs": [
    {
     "name": "stdout",
     "output_type": "stream",
     "text": [
      "68.26090326067306 87.73909673932694\n"
     ]
    }
   ],
   "source": [
    "n=17\n",
    "x_bar = 78\n",
    "s = 23\n",
    "t = stats.t.isf(0.05,df=n-1)\n",
    "ll = x_bar-(t*(s/n**0.5))\n",
    "ul = x_bar+(t*(s/n**0.5))\n",
    "print(ll,ul)"
   ]
  },
  {
   "cell_type": "code",
   "execution_count": 22,
   "metadata": {},
   "outputs": [
    {
     "data": {
      "text/plain": [
       "(68.26090326067306, 87.73909673932694)"
      ]
     },
     "execution_count": 22,
     "metadata": {},
     "output_type": "execute_result"
    }
   ],
   "source": [
    "stats.t.interval(loc=x_bar,scale = s/n**0.5 , alpha=0.9,df=n-1)"
   ]
  },
  {
   "cell_type": "markdown",
   "metadata": {},
   "source": [
    "### Practice:\n",
    "\n",
    "#### 1. In a class.  randomly 15 students are selected and found that the average weight of height is 145 cm with a standard deviation of 10cm. Find the 95% confidence interval for the population mean."
   ]
  },
  {
   "cell_type": "code",
   "execution_count": null,
   "metadata": {},
   "outputs": [],
   "source": [
    "# (139.4621845843536, 150.5378154156464)\n"
   ]
  },
  {
   "cell_type": "markdown",
   "metadata": {},
   "source": [
    "<a id=\"prop\"></a>\n",
    "## 2.3 Interval Estimation for Proportion"
   ]
  },
  {
   "cell_type": "markdown",
   "metadata": {},
   "source": [
    "Consider a population in which each observation is either a success or a failure. The population proportion is denoted by `P` which the ratio of the number of successes to the size of the population.\n",
    "\n",
    "The confidence interval for the population proportion with $100(1-\\alpha)$% confidence level is given as: $p \\pm Z_{\\frac{\\alpha}{2}}\\sqrt{\\frac{p(1 - p)}{n}}$\n",
    "\n",
    "Where, <br>\n",
    "$p$: Sample proportion<br>\n",
    "$\\alpha$: Level of significance<br>\n",
    "$n$: Sample size\n",
    "\n",
    "The quantity $Z_{\\frac{\\alpha}{2}}\\sqrt{\\frac{p(1 - p)}{n}}$ is the margin of error."
   ]
  },
  {
   "cell_type": "markdown",
   "metadata": {},
   "source": [
    "### Example:\n",
    "\n",
    "#### 1. A financial firm has created 50 portfolios. From them, a sample of 13 portfolios was selected, out of which 8 were found to be underperforming. Construct a 99% confidence interval to estimate the population proportion."
   ]
  },
  {
   "cell_type": "code",
   "execution_count": 23,
   "metadata": {},
   "outputs": [
    {
     "name": "stdout",
     "output_type": "stream",
     "text": [
      "0.26782280814713794 0.962946422622093\n"
     ]
    }
   ],
   "source": [
    "n = 13\n",
    "ps = 8/13\n",
    "z = stats.norm.isf(0.005)\n",
    "ll = ps-(z*(np.sqrt((ps*(1-ps))/n)))\n",
    "ul = ps+(z*(np.sqrt((ps*(1-ps))/n)))\n",
    "print(ll,ul)"
   ]
  },
  {
   "cell_type": "code",
   "execution_count": 25,
   "metadata": {},
   "outputs": [
    {
     "data": {
      "text/plain": [
       "(0.26782280814713805, 0.9629464226220927)"
      ]
     },
     "execution_count": 25,
     "metadata": {},
     "output_type": "execute_result"
    }
   ],
   "source": [
    "stats.norm.interval(loc=ps,scale=np.sqrt((ps*(1-ps))/n),alpha=0.99)"
   ]
  },
  {
   "cell_type": "code",
   "execution_count": null,
   "metadata": {},
   "outputs": [],
   "source": [
    "# The proportion of underperforming candidate ranges from 26.7% tp 96.2%"
   ]
  },
  {
   "cell_type": "markdown",
   "metadata": {},
   "source": [
    "### Practice:\n",
    "\n",
    "#### 1. A survey is taken for the preference of work from home. A sample of 60  was selected, out of which 42 were opting work from home. Construct a 99% confidence interval to estimate the population proportion."
   ]
  },
  {
   "cell_type": "code",
   "execution_count": null,
   "metadata": {},
   "outputs": [],
   "source": [
    "# 0.5476118833255879- 0.852388116674412\n"
   ]
  }
 ],
 "metadata": {
  "kernelspec": {
   "display_name": "Python 3 (ipykernel)",
   "language": "python",
   "name": "python3"
  },
  "language_info": {
   "codemirror_mode": {
    "name": "ipython",
    "version": 3
   },
   "file_extension": ".py",
   "mimetype": "text/x-python",
   "name": "python",
   "nbconvert_exporter": "python",
   "pygments_lexer": "ipython3",
   "version": "3.9.12"
  },
  "toc": {
   "base_numbering": 1,
   "nav_menu": {},
   "number_sections": true,
   "sideBar": true,
   "skip_h1_title": false,
   "title_cell": "Table of Contents",
   "title_sidebar": "Contents",
   "toc_cell": false,
   "toc_position": {},
   "toc_section_display": true,
   "toc_window_display": false
  },
  "varInspector": {
   "cols": {
    "lenName": 16,
    "lenType": 16,
    "lenVar": 40
   },
   "kernels_config": {
    "python": {
     "delete_cmd_postfix": "",
     "delete_cmd_prefix": "del ",
     "library": "var_list.py",
     "varRefreshCmd": "print(var_dic_list())"
    },
    "r": {
     "delete_cmd_postfix": ") ",
     "delete_cmd_prefix": "rm(",
     "library": "var_list.r",
     "varRefreshCmd": "cat(var_dic_list()) "
    }
   },
   "types_to_exclude": [
    "module",
    "function",
    "builtin_function_or_method",
    "instance",
    "_Feature"
   ],
   "window_display": false
  }
 },
 "nbformat": 4,
 "nbformat_minor": 2
}
