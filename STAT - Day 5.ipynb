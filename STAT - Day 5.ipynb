{
 "cells": [
  {
   "cell_type": "markdown",
   "metadata": {},
   "source": [
    "<a id=\"lib\"></a>\n",
    "# 1. Import Libraries"
   ]
  },
  {
   "cell_type": "markdown",
   "metadata": {},
   "source": [
    "**Let us import the required libraries.**"
   ]
  },
  {
   "cell_type": "code",
   "execution_count": 5,
   "metadata": {},
   "outputs": [],
   "source": [
    "# import 'pandas' \n",
    "import pandas as pd \n",
    "\n",
    "# import 'numpy' \n",
    "import numpy as np\n",
    "\n",
    "# import subpackage of matplotlib\n",
    "import matplotlib.pyplot as plt\n",
    "\n",
    "# import 'seaborn'\n",
    "import seaborn as sns\n",
    "\n",
    "# to suppress warnings \n",
    "from warnings import filterwarnings\n",
    "filterwarnings('ignore')\n",
    "\n",
    "# import 'random' to generate random sample\n",
    "import random\n",
    "\n",
    "# import statistics to perform statistical computation  \n",
    "import statistics\n",
    "\n",
    "# import 'stats' package from scipy library\n",
    "from scipy import stats\n",
    "\n",
    "# import a library to perform Z-test\n",
    "from statsmodels.stats import weightstats as stests\n",
    "\n",
    "# to test the normality \n",
    "from scipy.stats import shapiro\n",
    "\n",
    "# import the function to calculate the power of test\n",
    "from statsmodels.stats import power"
   ]
  },
  {
   "cell_type": "markdown",
   "metadata": {},
   "source": [
    "<a id=\"chisq\"></a>\n",
    "# 2. Chi-Square Test"
   ]
  },
  {
   "cell_type": "markdown",
   "metadata": {},
   "source": [
    "It is a non-parametric test. `Non-parametric tests` do not require any assumptions on the parameter of the population from which the sample is taken. These tests can be applied to the ordinal/ nominal data. A non-parametric test can be performed on the data containing outliers.\n",
    "\n",
    "The chi-square test statistic follows a Chi-square ($\\chi^{2}$) distribution under the null hypothesis. It can be used to check the relationship between the categorical variables. \n",
    "\n",
    "Let us calculate the right-tailed $\\chi^{2}$ values for different levels of significance ($\\alpha$)."
   ]
  },
  {
   "cell_type": "markdown",
   "metadata": {},
   "source": [
    "<a id=\"goodness\"></a>\n",
    "## 2.1 Chi-Square Test for Goodness of Fit"
   ]
  },
  {
   "cell_type": "markdown",
   "metadata": {},
   "source": [
    "This test is used to compare the distribution of the categorical data with the expected distribution. \n",
    "\n",
    "<p style='text-indent:6em'> <strong> $H_{0}$: There is no significant difference between the observed and expected frequencies from the expected distribution</strong></p>\n",
    "<p style='text-indent:6em'> <strong> $H_{1}$: There is a significant difference between the observed and expected frequencies from the expected distribution</strong></p>"
   ]
  },
  {
   "cell_type": "markdown",
   "metadata": {},
   "source": [
    "### Example:\n",
    "\n"
   ]
  },
  {
   "cell_type": "markdown",
   "metadata": {},
   "source": [
    "#### 1. At an emporium, the manager is interested in knowing the age group which visits the mall during the day. He defines categories as - children, teenagers, adults and senior citizens. He plans to have his inventory of goods accordingly. He claims that out of all the people who visited 5% are children, 38% are teenagers, 2% are senior citizens are remaining are adults. From a sample of 180 people, it was seen that 25 were children, 50 were teenagers, 90 were adults and  15 were senior citizens. Test the manager’s claim at a 95% confidence level.\n"
   ]
  },
  {
   "cell_type": "code",
   "execution_count": 6,
   "metadata": {},
   "outputs": [],
   "source": [
    "# Ho : Observed = Expected\n",
    "# Ha : Observed != Expected"
   ]
  },
  {
   "cell_type": "code",
   "execution_count": 7,
   "metadata": {},
   "outputs": [],
   "source": [
    "exp_per = np.array([0.05,0.38,0.02,0.55])  # children,teenager,Sr.Ct,Adults\n",
    "n = 180\n",
    "obs_val = [25,50,15,90]\n",
    "exp_val = exp_per*n"
   ]
  },
  {
   "cell_type": "code",
   "execution_count": 8,
   "metadata": {},
   "outputs": [
    {
     "data": {
      "text/plain": [
       "Power_divergenceResult(statistic=70.31233386496545, pvalue=3.659118590746868e-15)"
      ]
     },
     "execution_count": 8,
     "metadata": {},
     "output_type": "execute_result"
    }
   ],
   "source": [
    "stats.chisquare(f_exp=exp_val,f_obs = obs_val)"
   ]
  },
  {
   "cell_type": "code",
   "execution_count": 9,
   "metadata": {},
   "outputs": [],
   "source": [
    "# Since chisquare is bidirectional, pvalue of the inbuilt function can be taken."
   ]
  },
  {
   "cell_type": "code",
   "execution_count": 11,
   "metadata": {},
   "outputs": [
    {
     "name": "stdout",
     "output_type": "stream",
     "text": [
      "Ha is selected\n"
     ]
    }
   ],
   "source": [
    "pval = 3.659118590746868e-15\n",
    "sig_lvl = 0.05\n",
    "if pval<sig_lvl:\n",
    "    print('Ha is selected')\n",
    "else:\n",
    "    print('Ho is selected')"
   ]
  },
  {
   "cell_type": "code",
   "execution_count": null,
   "metadata": {},
   "outputs": [],
   "source": [
    "# The actual proportion of people is not in the expected prportion"
   ]
  },
  {
   "cell_type": "markdown",
   "metadata": {},
   "source": [
    "### Practice:\n",
    "\n",
    "1) In a school, sports teacher is willing to see the proportion of\n",
    "people participating in different sports. He expects that all the sports\n",
    "are equal in proportion. After the observation, he found that\n",
    "\n",
    "cricket - 35%\n",
    "volley ball - 25%\n",
    "foot ball - 20%\n",
    "basket ball - 20%\n",
    "\n",
    "Total number of student in the school - 200\n",
    "\n",
    "Check the hypotheis with 95% Confidence level."
   ]
  },
  {
   "cell_type": "code",
   "execution_count": 6,
   "metadata": {},
   "outputs": [],
   "source": [
    "# Ho : Observed = Expected\n",
    "# Ha : Observed != Expected"
   ]
  },
  {
   "cell_type": "code",
   "execution_count": 16,
   "metadata": {},
   "outputs": [],
   "source": [
    "n = 200\n",
    "exp_per = np.array([0.25,0.25,0.25,0.25])  # cricket,volley,foot,basket\n",
    "obs_per = np.array([0.35,0.25,0.20,0.20])  # cricket,volley,foot,basket\n",
    "obs_val = obs_per*n\n",
    "exp_val = exp_per*n"
   ]
  },
  {
   "cell_type": "code",
   "execution_count": 19,
   "metadata": {},
   "outputs": [
    {
     "data": {
      "text/plain": [
       "Power_divergenceResult(statistic=12.0, pvalue=0.007383160505359769)"
      ]
     },
     "execution_count": 19,
     "metadata": {},
     "output_type": "execute_result"
    }
   ],
   "source": [
    "stats.chisquare(f_exp=exp_val,f_obs = obs_val)"
   ]
  },
  {
   "cell_type": "code",
   "execution_count": 9,
   "metadata": {},
   "outputs": [],
   "source": [
    "# Since chisquare is bidirectional, pvalue of the inbuilt function can be taken."
   ]
  },
  {
   "cell_type": "code",
   "execution_count": 20,
   "metadata": {},
   "outputs": [
    {
     "name": "stdout",
     "output_type": "stream",
     "text": [
      "Ha is selected\n"
     ]
    }
   ],
   "source": [
    "pval = 0.007383160505359769\n",
    "sig_lvl = 0.05\n",
    "if pval<sig_lvl:\n",
    "    print('Ha is selected')\n",
    "else:\n",
    "    print('Ho is selected')"
   ]
  },
  {
   "cell_type": "code",
   "execution_count": null,
   "metadata": {},
   "outputs": [],
   "source": [
    "# The actual proportion of people is not in the expected prportion"
   ]
  },
  {
   "cell_type": "markdown",
   "metadata": {},
   "source": [
    "<a id=\"ind\"></a>\n",
    "## 2.2 Chi-Square Test for Independence"
   ]
  },
  {
   "cell_type": "markdown",
   "metadata": {},
   "source": [
    "This test is used to test whether the categorical variables are independent or not.\n",
    "\n",
    "<p style='text-indent:20em'> <strong> $H_{0}$: The variables are independent</strong></p>\n",
    "<p style='text-indent:20em'> <strong> $H_{1}$: The variables are not independent (i.e. variables are dependent)</strong></p>"
   ]
  },
  {
   "cell_type": "markdown",
   "metadata": {},
   "source": [
    "Consider a categorical variable `A` with `r` levels and variable `B` with `c` levels. Let us test the independence of variables A and B.\n",
    "\n",
    "The test statistic is given as:\n",
    "<p style='text-indent:25em'> <strong> $\\chi^{2} = \\sum_{i= 1}^{r}\\sum_{j = 1}^{c}\\frac{O_{ij}^{2}}{E_{ij}} - N$</strong></p>\n",
    "\n",
    "Where, <br>\n",
    "$O_{ij}$: Observed frequency for category (i,j) <br>\n",
    "$E_{ij}$: Expected frequency for category (i,j)<br>\n",
    "$N$: Total number of observations\n",
    "\n",
    "Under $H_{0}$, the test statistic follows a chi-square distribution with $(r-1)(c-1)$ degrees of freedom."
   ]
  },
  {
   "cell_type": "code",
   "execution_count": 22,
   "metadata": {
    "scrolled": false
   },
   "outputs": [
    {
     "data": {
      "text/html": [
       "<div>\n",
       "<style scoped>\n",
       "    .dataframe tbody tr th:only-of-type {\n",
       "        vertical-align: middle;\n",
       "    }\n",
       "\n",
       "    .dataframe tbody tr th {\n",
       "        vertical-align: top;\n",
       "    }\n",
       "\n",
       "    .dataframe thead th {\n",
       "        text-align: right;\n",
       "    }\n",
       "</style>\n",
       "<table border=\"1\" class=\"dataframe\">\n",
       "  <thead>\n",
       "    <tr style=\"text-align: right;\">\n",
       "      <th></th>\n",
       "      <th>gender</th>\n",
       "      <th>ethnicity</th>\n",
       "      <th>education</th>\n",
       "      <th>lunch</th>\n",
       "      <th>test_prep_course</th>\n",
       "      <th>math_score</th>\n",
       "      <th>reading_score</th>\n",
       "      <th>writing_score</th>\n",
       "      <th>total_score</th>\n",
       "      <th>training_institute</th>\n",
       "    </tr>\n",
       "  </thead>\n",
       "  <tbody>\n",
       "    <tr>\n",
       "      <th>0</th>\n",
       "      <td>female</td>\n",
       "      <td>group B</td>\n",
       "      <td>bachelor's degree</td>\n",
       "      <td>standard</td>\n",
       "      <td>none</td>\n",
       "      <td>89</td>\n",
       "      <td>55</td>\n",
       "      <td>56</td>\n",
       "      <td>200</td>\n",
       "      <td>Nature Learning</td>\n",
       "    </tr>\n",
       "    <tr>\n",
       "      <th>1</th>\n",
       "      <td>female</td>\n",
       "      <td>group C</td>\n",
       "      <td>college</td>\n",
       "      <td>standard</td>\n",
       "      <td>completed</td>\n",
       "      <td>55</td>\n",
       "      <td>63</td>\n",
       "      <td>72</td>\n",
       "      <td>190</td>\n",
       "      <td>Nature Learning</td>\n",
       "    </tr>\n",
       "    <tr>\n",
       "      <th>2</th>\n",
       "      <td>female</td>\n",
       "      <td>group B</td>\n",
       "      <td>master's degree</td>\n",
       "      <td>standard</td>\n",
       "      <td>none</td>\n",
       "      <td>64</td>\n",
       "      <td>71</td>\n",
       "      <td>56</td>\n",
       "      <td>191</td>\n",
       "      <td>Nature Learning</td>\n",
       "    </tr>\n",
       "    <tr>\n",
       "      <th>3</th>\n",
       "      <td>male</td>\n",
       "      <td>group A</td>\n",
       "      <td>associate's degree</td>\n",
       "      <td>free/reduced</td>\n",
       "      <td>none</td>\n",
       "      <td>60</td>\n",
       "      <td>99</td>\n",
       "      <td>72</td>\n",
       "      <td>231</td>\n",
       "      <td>Nature Learning</td>\n",
       "    </tr>\n",
       "    <tr>\n",
       "      <th>4</th>\n",
       "      <td>male</td>\n",
       "      <td>group C</td>\n",
       "      <td>college</td>\n",
       "      <td>standard</td>\n",
       "      <td>none</td>\n",
       "      <td>75</td>\n",
       "      <td>66</td>\n",
       "      <td>51</td>\n",
       "      <td>192</td>\n",
       "      <td>Nature Learning</td>\n",
       "    </tr>\n",
       "  </tbody>\n",
       "</table>\n",
       "</div>"
      ],
      "text/plain": [
       "   gender ethnicity           education         lunch test_prep_course  \\\n",
       "0  female   group B   bachelor's degree      standard             none   \n",
       "1  female   group C             college      standard        completed   \n",
       "2  female   group B     master's degree      standard             none   \n",
       "3    male   group A  associate's degree  free/reduced             none   \n",
       "4    male   group C             college      standard             none   \n",
       "\n",
       "   math_score  reading_score  writing_score  total_score training_institute  \n",
       "0          89             55             56          200    Nature Learning  \n",
       "1          55             63             72          190    Nature Learning  \n",
       "2          64             71             56          191    Nature Learning  \n",
       "3          60             99             72          231    Nature Learning  \n",
       "4          75             66             51          192    Nature Learning  "
      ]
     },
     "execution_count": 22,
     "metadata": {},
     "output_type": "execute_result"
    }
   ],
   "source": [
    "df = pd.read_csv('students_data.csv')\n",
    "df.head()"
   ]
  },
  {
   "cell_type": "markdown",
   "metadata": {},
   "source": [
    "**Check the relation of gender and test_prep_course with 95%CI.**"
   ]
  },
  {
   "cell_type": "code",
   "execution_count": null,
   "metadata": {},
   "outputs": [],
   "source": [
    "# Ho : No relation b/w Categorical features\n",
    "# Ha : Significant Relation b/w Categorical features"
   ]
  },
  {
   "cell_type": "code",
   "execution_count": 23,
   "metadata": {},
   "outputs": [
    {
     "data": {
      "text/html": [
       "<div>\n",
       "<style scoped>\n",
       "    .dataframe tbody tr th:only-of-type {\n",
       "        vertical-align: middle;\n",
       "    }\n",
       "\n",
       "    .dataframe tbody tr th {\n",
       "        vertical-align: top;\n",
       "    }\n",
       "\n",
       "    .dataframe thead th {\n",
       "        text-align: right;\n",
       "    }\n",
       "</style>\n",
       "<table border=\"1\" class=\"dataframe\">\n",
       "  <thead>\n",
       "    <tr style=\"text-align: right;\">\n",
       "      <th>test_prep_course</th>\n",
       "      <th>completed</th>\n",
       "      <th>none</th>\n",
       "    </tr>\n",
       "    <tr>\n",
       "      <th>gender</th>\n",
       "      <th></th>\n",
       "      <th></th>\n",
       "    </tr>\n",
       "  </thead>\n",
       "  <tbody>\n",
       "    <tr>\n",
       "      <th>female</th>\n",
       "      <td>184</td>\n",
       "      <td>333</td>\n",
       "    </tr>\n",
       "    <tr>\n",
       "      <th>male</th>\n",
       "      <td>175</td>\n",
       "      <td>308</td>\n",
       "    </tr>\n",
       "  </tbody>\n",
       "</table>\n",
       "</div>"
      ],
      "text/plain": [
       "test_prep_course  completed  none\n",
       "gender                           \n",
       "female                  184   333\n",
       "male                    175   308"
      ]
     },
     "execution_count": 23,
     "metadata": {},
     "output_type": "execute_result"
    }
   ],
   "source": [
    "obs_val = pd.crosstab(df['gender'],df['test_prep_course'])\n",
    "obs_val"
   ]
  },
  {
   "cell_type": "code",
   "execution_count": 26,
   "metadata": {
    "scrolled": true
   },
   "outputs": [
    {
     "data": {
      "text/plain": [
       "(0.02117195064612695,\n",
       " 0.8843115019893263,\n",
       " 1,\n",
       " array([[185.603, 331.397],\n",
       "        [173.397, 309.603]]))"
      ]
     },
     "execution_count": 26,
     "metadata": {},
     "output_type": "execute_result"
    }
   ],
   "source": [
    "stats.chi2_contingency(obs_val) # Test of independance"
   ]
  },
  {
   "cell_type": "code",
   "execution_count": 25,
   "metadata": {},
   "outputs": [
    {
     "name": "stdout",
     "output_type": "stream",
     "text": [
      "Test stat: 0.02117195064612695\n",
      "pval: 0.8843115019893263\n",
      "Degrees of freedom: 1\n",
      "Expected: [[185.603 331.397]\n",
      " [173.397 309.603]]\n"
     ]
    }
   ],
   "source": [
    "test_stat,pval,dof,exp = stats.chi2_contingency(obs_val)\n",
    "print('Test stat:',test_stat)\n",
    "print('pval:',pval)\n",
    "print('Degrees of freedom:',dof)\n",
    "print('Expected:',exp)"
   ]
  },
  {
   "cell_type": "code",
   "execution_count": 27,
   "metadata": {},
   "outputs": [
    {
     "name": "stdout",
     "output_type": "stream",
     "text": [
      "Ho is selected\n"
     ]
    }
   ],
   "source": [
    "pval = 0.8843115019893263\n",
    "sig_lvl = 0.05\n",
    "if pval<sig_lvl:\n",
    "    print('Ha is selected')\n",
    "else:\n",
    "    print('Ho is selected')"
   ]
  },
  {
   "cell_type": "code",
   "execution_count": null,
   "metadata": {},
   "outputs": [],
   "source": [
    "# The gender has no relation with test_preparation_course"
   ]
  },
  {
   "cell_type": "markdown",
   "metadata": {},
   "source": [
    "###  Practice:\n",
    "\n",
    "**Check the relation of gender and lunch with 95%CI.**"
   ]
  },
  {
   "cell_type": "code",
   "execution_count": 28,
   "metadata": {},
   "outputs": [
    {
     "data": {
      "text/html": [
       "<div>\n",
       "<style scoped>\n",
       "    .dataframe tbody tr th:only-of-type {\n",
       "        vertical-align: middle;\n",
       "    }\n",
       "\n",
       "    .dataframe tbody tr th {\n",
       "        vertical-align: top;\n",
       "    }\n",
       "\n",
       "    .dataframe thead th {\n",
       "        text-align: right;\n",
       "    }\n",
       "</style>\n",
       "<table border=\"1\" class=\"dataframe\">\n",
       "  <thead>\n",
       "    <tr style=\"text-align: right;\">\n",
       "      <th>lunch</th>\n",
       "      <th>free/reduced</th>\n",
       "      <th>standard</th>\n",
       "    </tr>\n",
       "    <tr>\n",
       "      <th>gender</th>\n",
       "      <th></th>\n",
       "      <th></th>\n",
       "    </tr>\n",
       "  </thead>\n",
       "  <tbody>\n",
       "    <tr>\n",
       "      <th>female</th>\n",
       "      <td>188</td>\n",
       "      <td>329</td>\n",
       "    </tr>\n",
       "    <tr>\n",
       "      <th>male</th>\n",
       "      <td>166</td>\n",
       "      <td>317</td>\n",
       "    </tr>\n",
       "  </tbody>\n",
       "</table>\n",
       "</div>"
      ],
      "text/plain": [
       "lunch   free/reduced  standard\n",
       "gender                        \n",
       "female           188       329\n",
       "male             166       317"
      ]
     },
     "execution_count": 28,
     "metadata": {},
     "output_type": "execute_result"
    }
   ],
   "source": [
    "obs_val = pd.crosstab(df['gender'],df['lunch'])\n",
    "obs_val"
   ]
  },
  {
   "cell_type": "code",
   "execution_count": 29,
   "metadata": {
    "scrolled": true
   },
   "outputs": [
    {
     "data": {
      "text/plain": [
       "(0.35177927582800844,\n",
       " 0.5531076492252226,\n",
       " 1,\n",
       " array([[183.018, 333.982],\n",
       "        [170.982, 312.018]]))"
      ]
     },
     "execution_count": 29,
     "metadata": {},
     "output_type": "execute_result"
    }
   ],
   "source": [
    "stats.chi2_contingency(obs_val) # Test of independance"
   ]
  },
  {
   "cell_type": "code",
   "execution_count": 30,
   "metadata": {},
   "outputs": [
    {
     "name": "stdout",
     "output_type": "stream",
     "text": [
      "Test stat: 0.35177927582800844\n",
      "pval: 0.5531076492252226\n",
      "Degrees of freedom: 1\n",
      "Expected: [[183.018 333.982]\n",
      " [170.982 312.018]]\n"
     ]
    }
   ],
   "source": [
    "test_stat,pval,dof,exp = stats.chi2_contingency(obs_val)\n",
    "print('Test stat:',test_stat)\n",
    "print('pval:',pval)\n",
    "print('Degrees of freedom:',dof)\n",
    "print('Expected:',exp)"
   ]
  },
  {
   "cell_type": "code",
   "execution_count": 31,
   "metadata": {},
   "outputs": [
    {
     "name": "stdout",
     "output_type": "stream",
     "text": [
      "Ho is selected\n"
     ]
    }
   ],
   "source": [
    "pval = 0.5531076492252226\n",
    "sig_lvl = 0.05\n",
    "if pval<sig_lvl:\n",
    "    print('Ha is selected')\n",
    "else:\n",
    "    print('Ho is selected')"
   ]
  },
  {
   "cell_type": "code",
   "execution_count": 32,
   "metadata": {},
   "outputs": [],
   "source": [
    "# The gender has no relation with test_preparation_course"
   ]
  },
  {
   "cell_type": "markdown",
   "metadata": {},
   "source": [
    "<a id=\"1way\"></a>\n",
    "# 3. One-way ANOVA"
   ]
  },
  {
   "cell_type": "markdown",
   "metadata": {},
   "source": [
    "It is used to check the equality of population means for more than two independent samples. Each group is considered as a `treatment`. It assumes that the samples are taken from normally distributed populations. To check this assumption we can use the `Shapiro-Wilk Test.` Also, the population variances should be equal; this can be tested using the `Levene's Test`.\n",
    "\n",
    "The null and alternative hypothesis is given as:\n",
    "<p style='text-indent:20em'> <strong> $H_{0}$: The averages of all treatments are the same. </strong></p>\n",
    "<p style='text-indent:20em'> <strong> $H_{1}$: At least one treatment has a different average. </strong></p>\n",
    "\n",
    "Consider there are `t` treatments and `N` number of total observations. The test statistic is given as:\n",
    "<p style='text-indent:28em'> <strong> $F = \\frac{MTrSS}{MESS} $</strong></p>\n",
    "\n",
    "Where,<br>\n",
    "MTrSS = $\\frac{TrSS}{df_{Tr}}$<br>\n",
    "\n",
    "TrSS = $\\sum_{i}^{t}\\sum_{j}^{n_{i}}n_{i}(\\bar{x_{i}}. - \\bar{x}..)$<br> $n_{i}$ is the number of observations in $i^{th}$ treatment. <br>$\\bar{x_{i}}.$ is the mean over $i^{th}$ treatment <br> $\\bar{x}..$ is the grand mean (i.e. mean of all the observations). <br>\n",
    "\n",
    "$df_{Tr}$ is the degrees of freedom for treatments (= $t-1$)\n",
    "\n",
    "MESS = $\\frac{ESS}{df_{e}}$<br>\n",
    "\n",
    "ESS = $\\sum_{i}^{t}\\sum_{j}^{n_{i}}{(x_{ij} - \\bar{x_{i}}.)}^{2}$\n",
    "\n",
    "$df_{e}$ is the degrees of freedom for error (= $N-t$)\n",
    "\n",
    "Under $H_{0}$, the test statistic follows F-distribution with ($t-1,  N-t$) degrees of freedom."
   ]
  },
  {
   "cell_type": "markdown",
   "metadata": {},
   "source": [
    "Let us calculate the F values for different levels of significance ($\\alpha$)."
   ]
  },
  {
   "cell_type": "markdown",
   "metadata": {},
   "source": [
    "### Example:\n",
    "\n",
    "#### 1. Total marks in aptitude exam are recorded for students with different race/ethnicity. Test whether all the races/ethnicities have an equal average score with 0.05 level of significance. "
   ]
  },
  {
   "cell_type": "markdown",
   "metadata": {},
   "source": [
    "Use the performance dataset of students available in the CSV file `students_data.csv`."
   ]
  },
  {
   "cell_type": "code",
   "execution_count": 33,
   "metadata": {},
   "outputs": [
    {
     "data": {
      "text/html": [
       "<div>\n",
       "<style scoped>\n",
       "    .dataframe tbody tr th:only-of-type {\n",
       "        vertical-align: middle;\n",
       "    }\n",
       "\n",
       "    .dataframe tbody tr th {\n",
       "        vertical-align: top;\n",
       "    }\n",
       "\n",
       "    .dataframe thead th {\n",
       "        text-align: right;\n",
       "    }\n",
       "</style>\n",
       "<table border=\"1\" class=\"dataframe\">\n",
       "  <thead>\n",
       "    <tr style=\"text-align: right;\">\n",
       "      <th></th>\n",
       "      <th>gender</th>\n",
       "      <th>ethnicity</th>\n",
       "      <th>education</th>\n",
       "      <th>lunch</th>\n",
       "      <th>test_prep_course</th>\n",
       "      <th>math_score</th>\n",
       "      <th>reading_score</th>\n",
       "      <th>writing_score</th>\n",
       "      <th>total_score</th>\n",
       "      <th>training_institute</th>\n",
       "    </tr>\n",
       "  </thead>\n",
       "  <tbody>\n",
       "    <tr>\n",
       "      <th>0</th>\n",
       "      <td>female</td>\n",
       "      <td>group B</td>\n",
       "      <td>bachelor's degree</td>\n",
       "      <td>standard</td>\n",
       "      <td>none</td>\n",
       "      <td>89</td>\n",
       "      <td>55</td>\n",
       "      <td>56</td>\n",
       "      <td>200</td>\n",
       "      <td>Nature Learning</td>\n",
       "    </tr>\n",
       "    <tr>\n",
       "      <th>1</th>\n",
       "      <td>female</td>\n",
       "      <td>group C</td>\n",
       "      <td>college</td>\n",
       "      <td>standard</td>\n",
       "      <td>completed</td>\n",
       "      <td>55</td>\n",
       "      <td>63</td>\n",
       "      <td>72</td>\n",
       "      <td>190</td>\n",
       "      <td>Nature Learning</td>\n",
       "    </tr>\n",
       "    <tr>\n",
       "      <th>2</th>\n",
       "      <td>female</td>\n",
       "      <td>group B</td>\n",
       "      <td>master's degree</td>\n",
       "      <td>standard</td>\n",
       "      <td>none</td>\n",
       "      <td>64</td>\n",
       "      <td>71</td>\n",
       "      <td>56</td>\n",
       "      <td>191</td>\n",
       "      <td>Nature Learning</td>\n",
       "    </tr>\n",
       "    <tr>\n",
       "      <th>3</th>\n",
       "      <td>male</td>\n",
       "      <td>group A</td>\n",
       "      <td>associate's degree</td>\n",
       "      <td>free/reduced</td>\n",
       "      <td>none</td>\n",
       "      <td>60</td>\n",
       "      <td>99</td>\n",
       "      <td>72</td>\n",
       "      <td>231</td>\n",
       "      <td>Nature Learning</td>\n",
       "    </tr>\n",
       "    <tr>\n",
       "      <th>4</th>\n",
       "      <td>male</td>\n",
       "      <td>group C</td>\n",
       "      <td>college</td>\n",
       "      <td>standard</td>\n",
       "      <td>none</td>\n",
       "      <td>75</td>\n",
       "      <td>66</td>\n",
       "      <td>51</td>\n",
       "      <td>192</td>\n",
       "      <td>Nature Learning</td>\n",
       "    </tr>\n",
       "  </tbody>\n",
       "</table>\n",
       "</div>"
      ],
      "text/plain": [
       "   gender ethnicity           education         lunch test_prep_course  \\\n",
       "0  female   group B   bachelor's degree      standard             none   \n",
       "1  female   group C             college      standard        completed   \n",
       "2  female   group B     master's degree      standard             none   \n",
       "3    male   group A  associate's degree  free/reduced             none   \n",
       "4    male   group C             college      standard             none   \n",
       "\n",
       "   math_score  reading_score  writing_score  total_score training_institute  \n",
       "0          89             55             56          200    Nature Learning  \n",
       "1          55             63             72          190    Nature Learning  \n",
       "2          64             71             56          191    Nature Learning  \n",
       "3          60             99             72          231    Nature Learning  \n",
       "4          75             66             51          192    Nature Learning  "
      ]
     },
     "execution_count": 33,
     "metadata": {},
     "output_type": "execute_result"
    }
   ],
   "source": [
    "df = pd.read_csv('students_data.csv')\n",
    "df.head()"
   ]
  },
  {
   "cell_type": "code",
   "execution_count": 34,
   "metadata": {},
   "outputs": [
    {
     "data": {
      "text/plain": [
       "group C    319\n",
       "group D    261\n",
       "group B    190\n",
       "group E    140\n",
       "group A     90\n",
       "Name: ethnicity, dtype: int64"
      ]
     },
     "execution_count": 34,
     "metadata": {},
     "output_type": "execute_result"
    }
   ],
   "source": [
    "df['ethnicity'].value_counts()"
   ]
  },
  {
   "cell_type": "code",
   "execution_count": 36,
   "metadata": {},
   "outputs": [],
   "source": [
    "grp_a = df[df['ethnicity'] =='group A']['total_score']\n",
    "grp_b = df[df['ethnicity'] =='group B']['total_score']\n",
    "grp_c = df[df['ethnicity'] =='group C']['total_score']\n",
    "grp_d = df[df['ethnicity'] =='group D']['total_score']\n",
    "grp_e = df[df['ethnicity'] =='group E']['total_score']"
   ]
  },
  {
   "cell_type": "code",
   "execution_count": null,
   "metadata": {},
   "outputs": [],
   "source": [
    "# Ho : All means are equal\n",
    "# Ha : Atleast one mean is not equal"
   ]
  },
  {
   "cell_type": "code",
   "execution_count": 37,
   "metadata": {},
   "outputs": [
    {
     "name": "stdout",
     "output_type": "stream",
     "text": [
      "ShapiroResult(statistic=0.9894436001777649, pvalue=0.6901752352714539)\n",
      "ShapiroResult(statistic=0.9947066307067871, pvalue=0.7402700185775757)\n",
      "ShapiroResult(statistic=0.9973903298377991, pvalue=0.8950209617614746)\n",
      "ShapiroResult(statistic=0.9948431253433228, pvalue=0.5269628167152405)\n",
      "ShapiroResult(statistic=0.991719126701355, pvalue=0.5859840512275696)\n"
     ]
    }
   ],
   "source": [
    "# Test of Normality - Shapiro\n",
    "\n",
    "# Ho : Data is normal\n",
    "# Ha : Data is not normal\n",
    "\n",
    "print(stats.shapiro(grp_a))\n",
    "print(stats.shapiro(grp_b))\n",
    "print(stats.shapiro(grp_c))\n",
    "print(stats.shapiro(grp_d))\n",
    "print(stats.shapiro(grp_e))"
   ]
  },
  {
   "cell_type": "code",
   "execution_count": 38,
   "metadata": {},
   "outputs": [],
   "source": [
    "# All pvalues > 0.05,All data are normal"
   ]
  },
  {
   "cell_type": "code",
   "execution_count": 40,
   "metadata": {},
   "outputs": [
    {
     "name": "stdout",
     "output_type": "stream",
     "text": [
      "LeveneResult(statistic=1.8006030590828939, pvalue=0.12649444001357793)\n"
     ]
    }
   ],
   "source": [
    "# Test of equality of Variance - Levene's test\n",
    "\n",
    "# Ho: All variance are equal\n",
    "# Ha : Atleast one variance is not equal\n",
    "\n",
    "print(stats.levene(grp_a,grp_b,grp_c,grp_d,grp_e))"
   ]
  },
  {
   "cell_type": "code",
   "execution_count": null,
   "metadata": {},
   "outputs": [],
   "source": [
    "# pval> 0.05\n",
    "# Ho is selected.\n",
    "# Samples have equal variance"
   ]
  },
  {
   "cell_type": "code",
   "execution_count": null,
   "metadata": {},
   "outputs": [],
   "source": [
    "# 2+ samples\n",
    "# pop std unknown\n",
    "# data is normal\n",
    "# data have equal variance\n",
    "\n",
    "# ANOVA - Bidirectional test (So one tail is not possible)"
   ]
  },
  {
   "cell_type": "code",
   "execution_count": 41,
   "metadata": {},
   "outputs": [
    {
     "data": {
      "text/plain": [
       "F_onewayResult(statistic=0.789109595922189, pvalue=0.5322937031083035)"
      ]
     },
     "execution_count": 41,
     "metadata": {},
     "output_type": "execute_result"
    }
   ],
   "source": [
    "stats.f_oneway(grp_a,grp_b,grp_c,grp_d,grp_e)"
   ]
  },
  {
   "cell_type": "code",
   "execution_count": 42,
   "metadata": {},
   "outputs": [
    {
     "name": "stdout",
     "output_type": "stream",
     "text": [
      "Ho is selected\n"
     ]
    }
   ],
   "source": [
    "pval = 0.5322937031083035\n",
    "sig_lvl = 0.05\n",
    "if pval<sig_lvl:\n",
    "    print('Ha is selected')\n",
    "else:\n",
    "    print('Ho is selected')"
   ]
  },
  {
   "cell_type": "code",
   "execution_count": null,
   "metadata": {},
   "outputs": [],
   "source": [
    "# All the average scores for different ethniciti is equal"
   ]
  },
  {
   "cell_type": "markdown",
   "metadata": {},
   "source": [
    "### Practice:\n",
    "\n",
    "\n",
    "#### 1. Ryan is a production manager at an industry manufacturing alloy seals. They have 4 machines - A, B, C and D. Ryan wants to study whether all the machines have equal efficiency. Ryan collects data of tensile strength from all the 4 machines as given. Perform the post-hoc test to find out which machine has a different average. Test at 5% level of significance.\n",
    "\n",
    "<img src='1_ANOVA.png'>"
   ]
  },
  {
   "cell_type": "code",
   "execution_count": 43,
   "metadata": {},
   "outputs": [],
   "source": [
    "x = np.array([68.7, 62.7, 55.9, 80.7, 75.4, 68.5, 56.1, 70.3, 70.9, 63.1, 57.3, 80.9, 79.1, \n",
    "62.2, 59.2, 85.4, 78.2, 60.3, 50.1, 82.3]).reshape(5,4).T\n",
    "grp_a = x[0,:]\n",
    "grp_b =x[1,:]\n",
    "grp_c =x[2,:]\n",
    "grp_d =x[3,:]"
   ]
  },
  {
   "cell_type": "code",
   "execution_count": 44,
   "metadata": {},
   "outputs": [],
   "source": [
    "# Ho : All means are equal\n",
    "# Ha : Atleast one mean is not equal"
   ]
  },
  {
   "cell_type": "code",
   "execution_count": 45,
   "metadata": {},
   "outputs": [
    {
     "name": "stdout",
     "output_type": "stream",
     "text": [
      "ShapiroResult(statistic=0.9147661328315735, pvalue=0.4967544972896576)\n",
      "ShapiroResult(statistic=0.8534730076789856, pvalue=0.2057477980852127)\n",
      "ShapiroResult(statistic=0.8795409202575684, pvalue=0.3072359263896942)\n",
      "ShapiroResult(statistic=0.8367964029312134, pvalue=0.15625961124897003)\n"
     ]
    }
   ],
   "source": [
    "# Test of Normality - Shapiro\n",
    "\n",
    "# Ho : Data is normal\n",
    "# Ha : Data is not normal\n",
    "\n",
    "print(stats.shapiro(grp_a))\n",
    "print(stats.shapiro(grp_b))\n",
    "print(stats.shapiro(grp_c))\n",
    "print(stats.shapiro(grp_d))\n"
   ]
  },
  {
   "cell_type": "code",
   "execution_count": 38,
   "metadata": {},
   "outputs": [],
   "source": [
    "# All pvalues > 0.05,All data are normal"
   ]
  },
  {
   "cell_type": "code",
   "execution_count": 46,
   "metadata": {},
   "outputs": [
    {
     "name": "stdout",
     "output_type": "stream",
     "text": [
      "LeveneResult(statistic=0.3969333650936478, pvalue=0.7570021212992085)\n"
     ]
    }
   ],
   "source": [
    "# Test of equality of Variance - Levene's test\n",
    "\n",
    "# Ho: All variance are equal\n",
    "# Ha : Atleast one variance is not equal\n",
    "\n",
    "print(stats.levene(grp_a,grp_b,grp_c,grp_d))"
   ]
  },
  {
   "cell_type": "code",
   "execution_count": null,
   "metadata": {},
   "outputs": [],
   "source": [
    "# pval> 0.05\n",
    "# Ho is selected.\n",
    "# Samples have equal variance"
   ]
  },
  {
   "cell_type": "code",
   "execution_count": null,
   "metadata": {},
   "outputs": [],
   "source": [
    "# 2+ samples\n",
    "# pop std unknown\n",
    "# data is normal\n",
    "# data have equal variance\n",
    "\n",
    "# ANOVA - Bidirectional test (So one tail is not possible)"
   ]
  },
  {
   "cell_type": "code",
   "execution_count": 47,
   "metadata": {},
   "outputs": [
    {
     "data": {
      "text/plain": [
       "F_onewayResult(statistic=32.03072350199285, pvalue=5.375613532781072e-07)"
      ]
     },
     "execution_count": 47,
     "metadata": {},
     "output_type": "execute_result"
    }
   ],
   "source": [
    "stats.f_oneway(grp_a,grp_b,grp_c,grp_d)"
   ]
  },
  {
   "cell_type": "code",
   "execution_count": 48,
   "metadata": {},
   "outputs": [
    {
     "name": "stdout",
     "output_type": "stream",
     "text": [
      "Ha is selected\n"
     ]
    }
   ],
   "source": [
    "pval = 5.375613532781072e-07\n",
    "sig_lvl = 0.05\n",
    "if pval<sig_lvl:\n",
    "    print('Ha is selected')\n",
    "else:\n",
    "    print('Ho is selected')"
   ]
  },
  {
   "cell_type": "code",
   "execution_count": null,
   "metadata": {},
   "outputs": [],
   "source": [
    "# Atleast one tensile strength is different"
   ]
  },
  {
   "cell_type": "code",
   "execution_count": null,
   "metadata": {},
   "outputs": [],
   "source": []
  }
 ],
 "metadata": {
  "kernelspec": {
   "display_name": "Python 3 (ipykernel)",
   "language": "python",
   "name": "python3"
  },
  "language_info": {
   "codemirror_mode": {
    "name": "ipython",
    "version": 3
   },
   "file_extension": ".py",
   "mimetype": "text/x-python",
   "name": "python",
   "nbconvert_exporter": "python",
   "pygments_lexer": "ipython3",
   "version": "3.9.12"
  },
  "toc": {
   "base_numbering": 1,
   "nav_menu": {},
   "number_sections": true,
   "sideBar": true,
   "skip_h1_title": false,
   "title_cell": "Table of Contents",
   "title_sidebar": "Contents",
   "toc_cell": false,
   "toc_position": {},
   "toc_section_display": true,
   "toc_window_display": false
  },
  "varInspector": {
   "cols": {
    "lenName": 16,
    "lenType": 16,
    "lenVar": 40
   },
   "kernels_config": {
    "python": {
     "delete_cmd_postfix": "",
     "delete_cmd_prefix": "del ",
     "library": "var_list.py",
     "varRefreshCmd": "print(var_dic_list())"
    },
    "r": {
     "delete_cmd_postfix": ") ",
     "delete_cmd_prefix": "rm(",
     "library": "var_list.r",
     "varRefreshCmd": "cat(var_dic_list()) "
    }
   },
   "types_to_exclude": [
    "module",
    "function",
    "builtin_function_or_method",
    "instance",
    "_Feature"
   ],
   "window_display": false
  }
 },
 "nbformat": 4,
 "nbformat_minor": 2
}
